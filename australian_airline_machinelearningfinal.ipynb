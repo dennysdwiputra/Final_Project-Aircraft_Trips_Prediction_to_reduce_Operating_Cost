{
 "cells": [
  {
   "cell_type": "code",
   "execution_count": 63,
   "metadata": {
    "colab": {
     "base_uri": "https://localhost:8080/"
    },
    "executionInfo": {
     "elapsed": 1168,
     "status": "ok",
     "timestamp": 1605963051578,
     "user": {
      "displayName": "Denny Setia Dwiputra",
      "photoUrl": "https://lh3.googleusercontent.com/a-/AOh14GheQSIjmpXmrulrtnhemFKjsaAPE4APTVVVqNuX0w=s64",
      "userId": "16685659883209092994"
     },
     "user_tz": -420
    },
    "id": "pafL7Li0jyXW",
    "outputId": "e7fb830c-112a-41ae-f8ec-edca9549f7af"
   },
   "outputs": [],
   "source": [
    "import pandas as pd\n",
    "import matplotlib.pyplot as plt\n",
    "import numpy as np\n",
    "import seaborn as sns\n",
    "\n",
    "%matplotlib inline\n",
    "import warnings\n",
    "warnings.filterwarnings('ignore')\n",
    "df = pd.read_csv('train_2.csv')"
   ]
  },
  {
   "cell_type": "code",
   "execution_count": 4,
   "metadata": {
    "colab": {
     "base_uri": "https://localhost:8080/",
     "height": 197
    },
    "executionInfo": {
     "elapsed": 913,
     "status": "ok",
     "timestamp": 1605960104107,
     "user": {
      "displayName": "Denny Setia Dwiputra",
      "photoUrl": "https://lh3.googleusercontent.com/a-/AOh14GheQSIjmpXmrulrtnhemFKjsaAPE4APTVVVqNuX0w=s64",
      "userId": "16685659883209092994"
     },
     "user_tz": -420
    },
    "id": "y8b2J0DYScKI",
    "outputId": "f279360b-cb01-4ec8-ee2b-fa14963111eb"
   },
   "outputs": [
    {
     "data": {
      "text/html": [
       "<div>\n",
       "<style scoped>\n",
       "    .dataframe tbody tr th:only-of-type {\n",
       "        vertical-align: middle;\n",
       "    }\n",
       "\n",
       "    .dataframe tbody tr th {\n",
       "        vertical-align: top;\n",
       "    }\n",
       "\n",
       "    .dataframe thead th {\n",
       "        text-align: right;\n",
       "    }\n",
       "</style>\n",
       "<table border=\"1\" class=\"dataframe\">\n",
       "  <thead>\n",
       "    <tr style=\"text-align: right;\">\n",
       "      <th></th>\n",
       "      <th>City1</th>\n",
       "      <th>City2</th>\n",
       "      <th>Passenger_Trips</th>\n",
       "      <th>Aircraft_Trips</th>\n",
       "      <th>RPKs</th>\n",
       "      <th>ASKs</th>\n",
       "      <th>Seats</th>\n",
       "      <th>Month_num</th>\n",
       "      <th>load_factor</th>\n",
       "      <th>city_pair</th>\n",
       "      <th>avg_ac_capacity</th>\n",
       "      <th>daily_ac_trips</th>\n",
       "      <th>est_daily_TOC</th>\n",
       "    </tr>\n",
       "  </thead>\n",
       "  <tbody>\n",
       "    <tr>\n",
       "      <th>0</th>\n",
       "      <td>ALBURY</td>\n",
       "      <td>SYDNEY</td>\n",
       "      <td>12665</td>\n",
       "      <td>323</td>\n",
       "      <td>5724580.0</td>\n",
       "      <td>8372396.0</td>\n",
       "      <td>18523</td>\n",
       "      <td>1</td>\n",
       "      <td>68.4</td>\n",
       "      <td>ALBURYSYDNEY</td>\n",
       "      <td>57.0</td>\n",
       "      <td>10.42</td>\n",
       "      <td>39780.02</td>\n",
       "    </tr>\n",
       "    <tr>\n",
       "      <th>1</th>\n",
       "      <td>ALBURY</td>\n",
       "      <td>SYDNEY</td>\n",
       "      <td>15546</td>\n",
       "      <td>459</td>\n",
       "      <td>7026792.0</td>\n",
       "      <td>10958740.0</td>\n",
       "      <td>24245</td>\n",
       "      <td>2</td>\n",
       "      <td>64.1</td>\n",
       "      <td>ALBURYSYDNEY</td>\n",
       "      <td>53.0</td>\n",
       "      <td>15.83</td>\n",
       "      <td>60433.56</td>\n",
       "    </tr>\n",
       "    <tr>\n",
       "      <th>2</th>\n",
       "      <td>ALBURY</td>\n",
       "      <td>SYDNEY</td>\n",
       "      <td>12140</td>\n",
       "      <td>435</td>\n",
       "      <td>5487280.0</td>\n",
       "      <td>10427188.0</td>\n",
       "      <td>23069</td>\n",
       "      <td>3</td>\n",
       "      <td>52.6</td>\n",
       "      <td>ALBURYSYDNEY</td>\n",
       "      <td>53.0</td>\n",
       "      <td>14.03</td>\n",
       "      <td>53561.77</td>\n",
       "    </tr>\n",
       "    <tr>\n",
       "      <th>3</th>\n",
       "      <td>ALBURY</td>\n",
       "      <td>SYDNEY</td>\n",
       "      <td>314</td>\n",
       "      <td>41</td>\n",
       "      <td>141928.0</td>\n",
       "      <td>877784.0</td>\n",
       "      <td>1942</td>\n",
       "      <td>4</td>\n",
       "      <td>16.2</td>\n",
       "      <td>ALBURYSYDNEY</td>\n",
       "      <td>47.0</td>\n",
       "      <td>1.37</td>\n",
       "      <td>5230.19</td>\n",
       "    </tr>\n",
       "    <tr>\n",
       "      <th>4</th>\n",
       "      <td>ALBURY</td>\n",
       "      <td>SYDNEY</td>\n",
       "      <td>416</td>\n",
       "      <td>33</td>\n",
       "      <td>188032.0</td>\n",
       "      <td>793712.0</td>\n",
       "      <td>1756</td>\n",
       "      <td>5</td>\n",
       "      <td>23.7</td>\n",
       "      <td>ALBURYSYDNEY</td>\n",
       "      <td>53.0</td>\n",
       "      <td>1.06</td>\n",
       "      <td>4046.72</td>\n",
       "    </tr>\n",
       "  </tbody>\n",
       "</table>\n",
       "</div>"
      ],
      "text/plain": [
       "    City1   City2  Passenger_Trips  Aircraft_Trips       RPKs        ASKs  \\\n",
       "0  ALBURY  SYDNEY            12665             323  5724580.0   8372396.0   \n",
       "1  ALBURY  SYDNEY            15546             459  7026792.0  10958740.0   \n",
       "2  ALBURY  SYDNEY            12140             435  5487280.0  10427188.0   \n",
       "3  ALBURY  SYDNEY              314              41   141928.0    877784.0   \n",
       "4  ALBURY  SYDNEY              416              33   188032.0    793712.0   \n",
       "\n",
       "   Seats  Month_num  load_factor     city_pair  avg_ac_capacity  \\\n",
       "0  18523          1         68.4  ALBURYSYDNEY             57.0   \n",
       "1  24245          2         64.1  ALBURYSYDNEY             53.0   \n",
       "2  23069          3         52.6  ALBURYSYDNEY             53.0   \n",
       "3   1942          4         16.2  ALBURYSYDNEY             47.0   \n",
       "4   1756          5         23.7  ALBURYSYDNEY             53.0   \n",
       "\n",
       "   daily_ac_trips  est_daily_TOC  \n",
       "0           10.42       39780.02  \n",
       "1           15.83       60433.56  \n",
       "2           14.03       53561.77  \n",
       "3            1.37        5230.19  \n",
       "4            1.06        4046.72  "
      ]
     },
     "execution_count": 4,
     "metadata": {},
     "output_type": "execute_result"
    }
   ],
   "source": [
    "df.head()"
   ]
  },
  {
   "cell_type": "code",
   "execution_count": null,
   "metadata": {
    "id": "ug-_l175rolb"
   },
   "outputs": [],
   "source": [
    "# ['City1','City2','Passenger_Trips','Aircraft_Trips','RPKs','ASKs','Seats','est_daily_TOC']"
   ]
  },
  {
   "cell_type": "markdown",
   "metadata": {
    "id": "vSckozSmSxKU"
   },
   "source": [
    "# ONE HOT ENCODING"
   ]
  },
  {
   "cell_type": "code",
   "execution_count": 5,
   "metadata": {
    "id": "k7gId_eUSu1E"
   },
   "outputs": [],
   "source": [
    "df_20_new = pd.get_dummies(data=df, columns=['city_pair'])"
   ]
  },
  {
   "cell_type": "code",
   "execution_count": 6,
   "metadata": {
    "colab": {
     "base_uri": "https://localhost:8080/",
     "height": 526
    },
    "executionInfo": {
     "elapsed": 3043,
     "status": "ok",
     "timestamp": 1605960726295,
     "user": {
      "displayName": "Denny Setia Dwiputra",
      "photoUrl": "https://lh3.googleusercontent.com/a-/AOh14GheQSIjmpXmrulrtnhemFKjsaAPE4APTVVVqNuX0w=s64",
      "userId": "16685659883209092994"
     },
     "user_tz": -420
    },
    "id": "HaYHoJ4TS0_M",
    "outputId": "2563c61a-5088-45a6-85f2-9d495bf3efe4"
   },
   "outputs": [
    {
     "data": {
      "text/html": [
       "<div>\n",
       "<style scoped>\n",
       "    .dataframe tbody tr th:only-of-type {\n",
       "        vertical-align: middle;\n",
       "    }\n",
       "\n",
       "    .dataframe tbody tr th {\n",
       "        vertical-align: top;\n",
       "    }\n",
       "\n",
       "    .dataframe thead th {\n",
       "        text-align: right;\n",
       "    }\n",
       "</style>\n",
       "<table border=\"1\" class=\"dataframe\">\n",
       "  <thead>\n",
       "    <tr style=\"text-align: right;\">\n",
       "      <th></th>\n",
       "      <th>City1</th>\n",
       "      <th>City2</th>\n",
       "      <th>Passenger_Trips</th>\n",
       "      <th>Aircraft_Trips</th>\n",
       "      <th>RPKs</th>\n",
       "      <th>ASKs</th>\n",
       "      <th>Seats</th>\n",
       "      <th>Month_num</th>\n",
       "      <th>load_factor</th>\n",
       "      <th>avg_ac_capacity</th>\n",
       "      <th>...</th>\n",
       "      <th>city_pair_PERTHNEWMAN</th>\n",
       "      <th>city_pair_PERTHPORT HEDLAND</th>\n",
       "      <th>city_pair_PERTHSYDNEY</th>\n",
       "      <th>city_pair_PORT MACQUARIESYDNEY</th>\n",
       "      <th>city_pair_PROSERPINESYDNEY</th>\n",
       "      <th>city_pair_SUNSHINE COASTMELBOURNE</th>\n",
       "      <th>city_pair_SUNSHINE COASTSYDNEY</th>\n",
       "      <th>city_pair_SYDNEYTAMWORTH</th>\n",
       "      <th>city_pair_SYDNEYTOWNSVILLE</th>\n",
       "      <th>city_pair_SYDNEYWAGGA WAGGA</th>\n",
       "    </tr>\n",
       "  </thead>\n",
       "  <tbody>\n",
       "    <tr>\n",
       "      <th>0</th>\n",
       "      <td>ALBURY</td>\n",
       "      <td>SYDNEY</td>\n",
       "      <td>12665</td>\n",
       "      <td>323</td>\n",
       "      <td>5724580.0</td>\n",
       "      <td>8372396.0</td>\n",
       "      <td>18523</td>\n",
       "      <td>1</td>\n",
       "      <td>68.4</td>\n",
       "      <td>57.0</td>\n",
       "      <td>...</td>\n",
       "      <td>0</td>\n",
       "      <td>0</td>\n",
       "      <td>0</td>\n",
       "      <td>0</td>\n",
       "      <td>0</td>\n",
       "      <td>0</td>\n",
       "      <td>0</td>\n",
       "      <td>0</td>\n",
       "      <td>0</td>\n",
       "      <td>0</td>\n",
       "    </tr>\n",
       "    <tr>\n",
       "      <th>1</th>\n",
       "      <td>ALBURY</td>\n",
       "      <td>SYDNEY</td>\n",
       "      <td>15546</td>\n",
       "      <td>459</td>\n",
       "      <td>7026792.0</td>\n",
       "      <td>10958740.0</td>\n",
       "      <td>24245</td>\n",
       "      <td>2</td>\n",
       "      <td>64.1</td>\n",
       "      <td>53.0</td>\n",
       "      <td>...</td>\n",
       "      <td>0</td>\n",
       "      <td>0</td>\n",
       "      <td>0</td>\n",
       "      <td>0</td>\n",
       "      <td>0</td>\n",
       "      <td>0</td>\n",
       "      <td>0</td>\n",
       "      <td>0</td>\n",
       "      <td>0</td>\n",
       "      <td>0</td>\n",
       "    </tr>\n",
       "    <tr>\n",
       "      <th>2</th>\n",
       "      <td>ALBURY</td>\n",
       "      <td>SYDNEY</td>\n",
       "      <td>12140</td>\n",
       "      <td>435</td>\n",
       "      <td>5487280.0</td>\n",
       "      <td>10427188.0</td>\n",
       "      <td>23069</td>\n",
       "      <td>3</td>\n",
       "      <td>52.6</td>\n",
       "      <td>53.0</td>\n",
       "      <td>...</td>\n",
       "      <td>0</td>\n",
       "      <td>0</td>\n",
       "      <td>0</td>\n",
       "      <td>0</td>\n",
       "      <td>0</td>\n",
       "      <td>0</td>\n",
       "      <td>0</td>\n",
       "      <td>0</td>\n",
       "      <td>0</td>\n",
       "      <td>0</td>\n",
       "    </tr>\n",
       "    <tr>\n",
       "      <th>3</th>\n",
       "      <td>ALBURY</td>\n",
       "      <td>SYDNEY</td>\n",
       "      <td>314</td>\n",
       "      <td>41</td>\n",
       "      <td>141928.0</td>\n",
       "      <td>877784.0</td>\n",
       "      <td>1942</td>\n",
       "      <td>4</td>\n",
       "      <td>16.2</td>\n",
       "      <td>47.0</td>\n",
       "      <td>...</td>\n",
       "      <td>0</td>\n",
       "      <td>0</td>\n",
       "      <td>0</td>\n",
       "      <td>0</td>\n",
       "      <td>0</td>\n",
       "      <td>0</td>\n",
       "      <td>0</td>\n",
       "      <td>0</td>\n",
       "      <td>0</td>\n",
       "      <td>0</td>\n",
       "    </tr>\n",
       "    <tr>\n",
       "      <th>4</th>\n",
       "      <td>ALBURY</td>\n",
       "      <td>SYDNEY</td>\n",
       "      <td>416</td>\n",
       "      <td>33</td>\n",
       "      <td>188032.0</td>\n",
       "      <td>793712.0</td>\n",
       "      <td>1756</td>\n",
       "      <td>5</td>\n",
       "      <td>23.7</td>\n",
       "      <td>53.0</td>\n",
       "      <td>...</td>\n",
       "      <td>0</td>\n",
       "      <td>0</td>\n",
       "      <td>0</td>\n",
       "      <td>0</td>\n",
       "      <td>0</td>\n",
       "      <td>0</td>\n",
       "      <td>0</td>\n",
       "      <td>0</td>\n",
       "      <td>0</td>\n",
       "      <td>0</td>\n",
       "    </tr>\n",
       "    <tr>\n",
       "      <th>...</th>\n",
       "      <td>...</td>\n",
       "      <td>...</td>\n",
       "      <td>...</td>\n",
       "      <td>...</td>\n",
       "      <td>...</td>\n",
       "      <td>...</td>\n",
       "      <td>...</td>\n",
       "      <td>...</td>\n",
       "      <td>...</td>\n",
       "      <td>...</td>\n",
       "      <td>...</td>\n",
       "      <td>...</td>\n",
       "      <td>...</td>\n",
       "      <td>...</td>\n",
       "      <td>...</td>\n",
       "      <td>...</td>\n",
       "      <td>...</td>\n",
       "      <td>...</td>\n",
       "      <td>...</td>\n",
       "      <td>...</td>\n",
       "      <td>...</td>\n",
       "    </tr>\n",
       "    <tr>\n",
       "      <th>430</th>\n",
       "      <td>SYDNEY</td>\n",
       "      <td>WAGGA WAGGA</td>\n",
       "      <td>269</td>\n",
       "      <td>48</td>\n",
       "      <td>98723.0</td>\n",
       "      <td>838595.0</td>\n",
       "      <td>2285</td>\n",
       "      <td>4</td>\n",
       "      <td>11.8</td>\n",
       "      <td>48.0</td>\n",
       "      <td>...</td>\n",
       "      <td>0</td>\n",
       "      <td>0</td>\n",
       "      <td>0</td>\n",
       "      <td>0</td>\n",
       "      <td>0</td>\n",
       "      <td>0</td>\n",
       "      <td>0</td>\n",
       "      <td>0</td>\n",
       "      <td>0</td>\n",
       "      <td>1</td>\n",
       "    </tr>\n",
       "    <tr>\n",
       "      <th>431</th>\n",
       "      <td>SYDNEY</td>\n",
       "      <td>WAGGA WAGGA</td>\n",
       "      <td>549</td>\n",
       "      <td>37</td>\n",
       "      <td>201483.0</td>\n",
       "      <td>723724.0</td>\n",
       "      <td>1972</td>\n",
       "      <td>5</td>\n",
       "      <td>27.8</td>\n",
       "      <td>53.0</td>\n",
       "      <td>...</td>\n",
       "      <td>0</td>\n",
       "      <td>0</td>\n",
       "      <td>0</td>\n",
       "      <td>0</td>\n",
       "      <td>0</td>\n",
       "      <td>0</td>\n",
       "      <td>0</td>\n",
       "      <td>0</td>\n",
       "      <td>0</td>\n",
       "      <td>1</td>\n",
       "    </tr>\n",
       "    <tr>\n",
       "      <th>432</th>\n",
       "      <td>SYDNEY</td>\n",
       "      <td>WAGGA WAGGA</td>\n",
       "      <td>0</td>\n",
       "      <td>0</td>\n",
       "      <td>0.0</td>\n",
       "      <td>0.0</td>\n",
       "      <td>0</td>\n",
       "      <td>6</td>\n",
       "      <td>0.0</td>\n",
       "      <td>0.0</td>\n",
       "      <td>...</td>\n",
       "      <td>0</td>\n",
       "      <td>0</td>\n",
       "      <td>0</td>\n",
       "      <td>0</td>\n",
       "      <td>0</td>\n",
       "      <td>0</td>\n",
       "      <td>0</td>\n",
       "      <td>0</td>\n",
       "      <td>0</td>\n",
       "      <td>1</td>\n",
       "    </tr>\n",
       "    <tr>\n",
       "      <th>433</th>\n",
       "      <td>SYDNEY</td>\n",
       "      <td>WAGGA WAGGA</td>\n",
       "      <td>0</td>\n",
       "      <td>0</td>\n",
       "      <td>0.0</td>\n",
       "      <td>0.0</td>\n",
       "      <td>0</td>\n",
       "      <td>7</td>\n",
       "      <td>0.0</td>\n",
       "      <td>0.0</td>\n",
       "      <td>...</td>\n",
       "      <td>0</td>\n",
       "      <td>0</td>\n",
       "      <td>0</td>\n",
       "      <td>0</td>\n",
       "      <td>0</td>\n",
       "      <td>0</td>\n",
       "      <td>0</td>\n",
       "      <td>0</td>\n",
       "      <td>0</td>\n",
       "      <td>1</td>\n",
       "    </tr>\n",
       "    <tr>\n",
       "      <th>434</th>\n",
       "      <td>SYDNEY</td>\n",
       "      <td>WAGGA WAGGA</td>\n",
       "      <td>0</td>\n",
       "      <td>0</td>\n",
       "      <td>0.0</td>\n",
       "      <td>0.0</td>\n",
       "      <td>0</td>\n",
       "      <td>8</td>\n",
       "      <td>0.0</td>\n",
       "      <td>0.0</td>\n",
       "      <td>...</td>\n",
       "      <td>0</td>\n",
       "      <td>0</td>\n",
       "      <td>0</td>\n",
       "      <td>0</td>\n",
       "      <td>0</td>\n",
       "      <td>0</td>\n",
       "      <td>0</td>\n",
       "      <td>0</td>\n",
       "      <td>0</td>\n",
       "      <td>1</td>\n",
       "    </tr>\n",
       "  </tbody>\n",
       "</table>\n",
       "<p>435 rows × 82 columns</p>\n",
       "</div>"
      ],
      "text/plain": [
       "      City1        City2  Passenger_Trips  Aircraft_Trips       RPKs  \\\n",
       "0    ALBURY       SYDNEY            12665             323  5724580.0   \n",
       "1    ALBURY       SYDNEY            15546             459  7026792.0   \n",
       "2    ALBURY       SYDNEY            12140             435  5487280.0   \n",
       "3    ALBURY       SYDNEY              314              41   141928.0   \n",
       "4    ALBURY       SYDNEY              416              33   188032.0   \n",
       "..      ...          ...              ...             ...        ...   \n",
       "430  SYDNEY  WAGGA WAGGA              269              48    98723.0   \n",
       "431  SYDNEY  WAGGA WAGGA              549              37   201483.0   \n",
       "432  SYDNEY  WAGGA WAGGA                0               0        0.0   \n",
       "433  SYDNEY  WAGGA WAGGA                0               0        0.0   \n",
       "434  SYDNEY  WAGGA WAGGA                0               0        0.0   \n",
       "\n",
       "           ASKs  Seats  Month_num  load_factor  avg_ac_capacity  ...  \\\n",
       "0     8372396.0  18523          1         68.4             57.0  ...   \n",
       "1    10958740.0  24245          2         64.1             53.0  ...   \n",
       "2    10427188.0  23069          3         52.6             53.0  ...   \n",
       "3      877784.0   1942          4         16.2             47.0  ...   \n",
       "4      793712.0   1756          5         23.7             53.0  ...   \n",
       "..          ...    ...        ...          ...              ...  ...   \n",
       "430    838595.0   2285          4         11.8             48.0  ...   \n",
       "431    723724.0   1972          5         27.8             53.0  ...   \n",
       "432         0.0      0          6          0.0              0.0  ...   \n",
       "433         0.0      0          7          0.0              0.0  ...   \n",
       "434         0.0      0          8          0.0              0.0  ...   \n",
       "\n",
       "     city_pair_PERTHNEWMAN  city_pair_PERTHPORT HEDLAND  \\\n",
       "0                        0                            0   \n",
       "1                        0                            0   \n",
       "2                        0                            0   \n",
       "3                        0                            0   \n",
       "4                        0                            0   \n",
       "..                     ...                          ...   \n",
       "430                      0                            0   \n",
       "431                      0                            0   \n",
       "432                      0                            0   \n",
       "433                      0                            0   \n",
       "434                      0                            0   \n",
       "\n",
       "     city_pair_PERTHSYDNEY  city_pair_PORT MACQUARIESYDNEY  \\\n",
       "0                        0                               0   \n",
       "1                        0                               0   \n",
       "2                        0                               0   \n",
       "3                        0                               0   \n",
       "4                        0                               0   \n",
       "..                     ...                             ...   \n",
       "430                      0                               0   \n",
       "431                      0                               0   \n",
       "432                      0                               0   \n",
       "433                      0                               0   \n",
       "434                      0                               0   \n",
       "\n",
       "     city_pair_PROSERPINESYDNEY  city_pair_SUNSHINE COASTMELBOURNE  \\\n",
       "0                             0                                  0   \n",
       "1                             0                                  0   \n",
       "2                             0                                  0   \n",
       "3                             0                                  0   \n",
       "4                             0                                  0   \n",
       "..                          ...                                ...   \n",
       "430                           0                                  0   \n",
       "431                           0                                  0   \n",
       "432                           0                                  0   \n",
       "433                           0                                  0   \n",
       "434                           0                                  0   \n",
       "\n",
       "     city_pair_SUNSHINE COASTSYDNEY  city_pair_SYDNEYTAMWORTH  \\\n",
       "0                                 0                         0   \n",
       "1                                 0                         0   \n",
       "2                                 0                         0   \n",
       "3                                 0                         0   \n",
       "4                                 0                         0   \n",
       "..                              ...                       ...   \n",
       "430                               0                         0   \n",
       "431                               0                         0   \n",
       "432                               0                         0   \n",
       "433                               0                         0   \n",
       "434                               0                         0   \n",
       "\n",
       "     city_pair_SYDNEYTOWNSVILLE  city_pair_SYDNEYWAGGA WAGGA  \n",
       "0                             0                            0  \n",
       "1                             0                            0  \n",
       "2                             0                            0  \n",
       "3                             0                            0  \n",
       "4                             0                            0  \n",
       "..                          ...                          ...  \n",
       "430                           0                            1  \n",
       "431                           0                            1  \n",
       "432                           0                            1  \n",
       "433                           0                            1  \n",
       "434                           0                            1  \n",
       "\n",
       "[435 rows x 82 columns]"
      ]
     },
     "execution_count": 6,
     "metadata": {},
     "output_type": "execute_result"
    }
   ],
   "source": [
    "df_20_new"
   ]
  },
  {
   "cell_type": "markdown",
   "metadata": {
    "id": "FZJbqVS2fIje"
   },
   "source": [
    "## Checking Corralation"
   ]
  },
  {
   "cell_type": "code",
   "execution_count": 7,
   "metadata": {
    "colab": {
     "base_uri": "https://localhost:8080/",
     "height": 667
    },
    "executionInfo": {
     "elapsed": 1983,
     "status": "ok",
     "timestamp": 1605968771151,
     "user": {
      "displayName": "Denny Setia Dwiputra",
      "photoUrl": "https://lh3.googleusercontent.com/a-/AOh14GheQSIjmpXmrulrtnhemFKjsaAPE4APTVVVqNuX0w=s64",
      "userId": "16685659883209092994"
     },
     "user_tz": -420
    },
    "id": "8uT0LD7peJsg",
    "outputId": "65face04-5984-4acc-de31-9f3a3c1db41e"
   },
   "outputs": [
    {
     "data": {
      "image/png": "[encoded data removed]",
      "text/plain": [
       "<Figure size 1080x720 with 2 Axes>"
      ]
     },
     "metadata": {
      "needs_background": "light"
     },
     "output_type": "display_data"
    }
   ],
   "source": [
    "corr = df.corr()\n",
    "plt.figure(figsize=(15,10))   \n",
    "sns.heatmap(corr, annot=True) \n",
    "plt.show()                 "
   ]
  },
  {
   "cell_type": "markdown",
   "metadata": {
    "id": "dXV5fEzoS6Pk"
   },
   "source": [
    "# Feature Selection"
   ]
  },
  {
   "cell_type": "code",
   "execution_count": 8,
   "metadata": {
    "id": "qpopij0gS9TU"
   },
   "outputs": [],
   "source": [
    "df_20_new.drop(columns=['City1','City2','Passenger_Trips','Aircraft_Trips','RPKs','ASKs','Seats','est_daily_TOC'],inplace=True)"
   ]
  },
  {
   "cell_type": "code",
   "execution_count": 9,
   "metadata": {
    "colab": {
     "base_uri": "https://localhost:8080/",
     "height": 443
    },
    "executionInfo": {
     "elapsed": 903,
     "status": "ok",
     "timestamp": 1605960757135,
     "user": {
      "displayName": "Denny Setia Dwiputra",
      "photoUrl": "https://lh3.googleusercontent.com/a-/AOh14GheQSIjmpXmrulrtnhemFKjsaAPE4APTVVVqNuX0w=s64",
      "userId": "16685659883209092994"
     },
     "user_tz": -420
    },
    "id": "Zjg1eMWHS9nj",
    "outputId": "6a39900e-96ad-4b69-f054-bdbf6bdd21aa"
   },
   "outputs": [
    {
     "data": {
      "text/html": [
       "<div>\n",
       "<style scoped>\n",
       "    .dataframe tbody tr th:only-of-type {\n",
       "        vertical-align: middle;\n",
       "    }\n",
       "\n",
       "    .dataframe tbody tr th {\n",
       "        vertical-align: top;\n",
       "    }\n",
       "\n",
       "    .dataframe thead th {\n",
       "        text-align: right;\n",
       "    }\n",
       "</style>\n",
       "<table border=\"1\" class=\"dataframe\">\n",
       "  <thead>\n",
       "    <tr style=\"text-align: right;\">\n",
       "      <th></th>\n",
       "      <th>Month_num</th>\n",
       "      <th>load_factor</th>\n",
       "      <th>avg_ac_capacity</th>\n",
       "      <th>daily_ac_trips</th>\n",
       "      <th>city_pair_ADELAIDEALICE SPRINGS</th>\n",
       "      <th>city_pair_ADELAIDEBRISBANE</th>\n",
       "      <th>city_pair_ADELAIDECANBERRA</th>\n",
       "      <th>city_pair_ADELAIDEGOLD COAST</th>\n",
       "      <th>city_pair_ADELAIDEMELBOURNE</th>\n",
       "      <th>city_pair_ADELAIDEPERTH</th>\n",
       "      <th>...</th>\n",
       "      <th>city_pair_PERTHNEWMAN</th>\n",
       "      <th>city_pair_PERTHPORT HEDLAND</th>\n",
       "      <th>city_pair_PERTHSYDNEY</th>\n",
       "      <th>city_pair_PORT MACQUARIESYDNEY</th>\n",
       "      <th>city_pair_PROSERPINESYDNEY</th>\n",
       "      <th>city_pair_SUNSHINE COASTMELBOURNE</th>\n",
       "      <th>city_pair_SUNSHINE COASTSYDNEY</th>\n",
       "      <th>city_pair_SYDNEYTAMWORTH</th>\n",
       "      <th>city_pair_SYDNEYTOWNSVILLE</th>\n",
       "      <th>city_pair_SYDNEYWAGGA WAGGA</th>\n",
       "    </tr>\n",
       "  </thead>\n",
       "  <tbody>\n",
       "    <tr>\n",
       "      <th>0</th>\n",
       "      <td>1</td>\n",
       "      <td>68.4</td>\n",
       "      <td>57.0</td>\n",
       "      <td>10.42</td>\n",
       "      <td>0</td>\n",
       "      <td>0</td>\n",
       "      <td>0</td>\n",
       "      <td>0</td>\n",
       "      <td>0</td>\n",
       "      <td>0</td>\n",
       "      <td>...</td>\n",
       "      <td>0</td>\n",
       "      <td>0</td>\n",
       "      <td>0</td>\n",
       "      <td>0</td>\n",
       "      <td>0</td>\n",
       "      <td>0</td>\n",
       "      <td>0</td>\n",
       "      <td>0</td>\n",
       "      <td>0</td>\n",
       "      <td>0</td>\n",
       "    </tr>\n",
       "    <tr>\n",
       "      <th>1</th>\n",
       "      <td>2</td>\n",
       "      <td>64.1</td>\n",
       "      <td>53.0</td>\n",
       "      <td>15.83</td>\n",
       "      <td>0</td>\n",
       "      <td>0</td>\n",
       "      <td>0</td>\n",
       "      <td>0</td>\n",
       "      <td>0</td>\n",
       "      <td>0</td>\n",
       "      <td>...</td>\n",
       "      <td>0</td>\n",
       "      <td>0</td>\n",
       "      <td>0</td>\n",
       "      <td>0</td>\n",
       "      <td>0</td>\n",
       "      <td>0</td>\n",
       "      <td>0</td>\n",
       "      <td>0</td>\n",
       "      <td>0</td>\n",
       "      <td>0</td>\n",
       "    </tr>\n",
       "    <tr>\n",
       "      <th>2</th>\n",
       "      <td>3</td>\n",
       "      <td>52.6</td>\n",
       "      <td>53.0</td>\n",
       "      <td>14.03</td>\n",
       "      <td>0</td>\n",
       "      <td>0</td>\n",
       "      <td>0</td>\n",
       "      <td>0</td>\n",
       "      <td>0</td>\n",
       "      <td>0</td>\n",
       "      <td>...</td>\n",
       "      <td>0</td>\n",
       "      <td>0</td>\n",
       "      <td>0</td>\n",
       "      <td>0</td>\n",
       "      <td>0</td>\n",
       "      <td>0</td>\n",
       "      <td>0</td>\n",
       "      <td>0</td>\n",
       "      <td>0</td>\n",
       "      <td>0</td>\n",
       "    </tr>\n",
       "    <tr>\n",
       "      <th>3</th>\n",
       "      <td>4</td>\n",
       "      <td>16.2</td>\n",
       "      <td>47.0</td>\n",
       "      <td>1.37</td>\n",
       "      <td>0</td>\n",
       "      <td>0</td>\n",
       "      <td>0</td>\n",
       "      <td>0</td>\n",
       "      <td>0</td>\n",
       "      <td>0</td>\n",
       "      <td>...</td>\n",
       "      <td>0</td>\n",
       "      <td>0</td>\n",
       "      <td>0</td>\n",
       "      <td>0</td>\n",
       "      <td>0</td>\n",
       "      <td>0</td>\n",
       "      <td>0</td>\n",
       "      <td>0</td>\n",
       "      <td>0</td>\n",
       "      <td>0</td>\n",
       "    </tr>\n",
       "    <tr>\n",
       "      <th>4</th>\n",
       "      <td>5</td>\n",
       "      <td>23.7</td>\n",
       "      <td>53.0</td>\n",
       "      <td>1.06</td>\n",
       "      <td>0</td>\n",
       "      <td>0</td>\n",
       "      <td>0</td>\n",
       "      <td>0</td>\n",
       "      <td>0</td>\n",
       "      <td>0</td>\n",
       "      <td>...</td>\n",
       "      <td>0</td>\n",
       "      <td>0</td>\n",
       "      <td>0</td>\n",
       "      <td>0</td>\n",
       "      <td>0</td>\n",
       "      <td>0</td>\n",
       "      <td>0</td>\n",
       "      <td>0</td>\n",
       "      <td>0</td>\n",
       "      <td>0</td>\n",
       "    </tr>\n",
       "    <tr>\n",
       "      <th>...</th>\n",
       "      <td>...</td>\n",
       "      <td>...</td>\n",
       "      <td>...</td>\n",
       "      <td>...</td>\n",
       "      <td>...</td>\n",
       "      <td>...</td>\n",
       "      <td>...</td>\n",
       "      <td>...</td>\n",
       "      <td>...</td>\n",
       "      <td>...</td>\n",
       "      <td>...</td>\n",
       "      <td>...</td>\n",
       "      <td>...</td>\n",
       "      <td>...</td>\n",
       "      <td>...</td>\n",
       "      <td>...</td>\n",
       "      <td>...</td>\n",
       "      <td>...</td>\n",
       "      <td>...</td>\n",
       "      <td>...</td>\n",
       "      <td>...</td>\n",
       "    </tr>\n",
       "    <tr>\n",
       "      <th>430</th>\n",
       "      <td>4</td>\n",
       "      <td>11.8</td>\n",
       "      <td>48.0</td>\n",
       "      <td>1.60</td>\n",
       "      <td>0</td>\n",
       "      <td>0</td>\n",
       "      <td>0</td>\n",
       "      <td>0</td>\n",
       "      <td>0</td>\n",
       "      <td>0</td>\n",
       "      <td>...</td>\n",
       "      <td>0</td>\n",
       "      <td>0</td>\n",
       "      <td>0</td>\n",
       "      <td>0</td>\n",
       "      <td>0</td>\n",
       "      <td>0</td>\n",
       "      <td>0</td>\n",
       "      <td>0</td>\n",
       "      <td>0</td>\n",
       "      <td>1</td>\n",
       "    </tr>\n",
       "    <tr>\n",
       "      <th>431</th>\n",
       "      <td>5</td>\n",
       "      <td>27.8</td>\n",
       "      <td>53.0</td>\n",
       "      <td>1.19</td>\n",
       "      <td>0</td>\n",
       "      <td>0</td>\n",
       "      <td>0</td>\n",
       "      <td>0</td>\n",
       "      <td>0</td>\n",
       "      <td>0</td>\n",
       "      <td>...</td>\n",
       "      <td>0</td>\n",
       "      <td>0</td>\n",
       "      <td>0</td>\n",
       "      <td>0</td>\n",
       "      <td>0</td>\n",
       "      <td>0</td>\n",
       "      <td>0</td>\n",
       "      <td>0</td>\n",
       "      <td>0</td>\n",
       "      <td>1</td>\n",
       "    </tr>\n",
       "    <tr>\n",
       "      <th>432</th>\n",
       "      <td>6</td>\n",
       "      <td>0.0</td>\n",
       "      <td>0.0</td>\n",
       "      <td>0.00</td>\n",
       "      <td>0</td>\n",
       "      <td>0</td>\n",
       "      <td>0</td>\n",
       "      <td>0</td>\n",
       "      <td>0</td>\n",
       "      <td>0</td>\n",
       "      <td>...</td>\n",
       "      <td>0</td>\n",
       "      <td>0</td>\n",
       "      <td>0</td>\n",
       "      <td>0</td>\n",
       "      <td>0</td>\n",
       "      <td>0</td>\n",
       "      <td>0</td>\n",
       "      <td>0</td>\n",
       "      <td>0</td>\n",
       "      <td>1</td>\n",
       "    </tr>\n",
       "    <tr>\n",
       "      <th>433</th>\n",
       "      <td>7</td>\n",
       "      <td>0.0</td>\n",
       "      <td>0.0</td>\n",
       "      <td>0.00</td>\n",
       "      <td>0</td>\n",
       "      <td>0</td>\n",
       "      <td>0</td>\n",
       "      <td>0</td>\n",
       "      <td>0</td>\n",
       "      <td>0</td>\n",
       "      <td>...</td>\n",
       "      <td>0</td>\n",
       "      <td>0</td>\n",
       "      <td>0</td>\n",
       "      <td>0</td>\n",
       "      <td>0</td>\n",
       "      <td>0</td>\n",
       "      <td>0</td>\n",
       "      <td>0</td>\n",
       "      <td>0</td>\n",
       "      <td>1</td>\n",
       "    </tr>\n",
       "    <tr>\n",
       "      <th>434</th>\n",
       "      <td>8</td>\n",
       "      <td>0.0</td>\n",
       "      <td>0.0</td>\n",
       "      <td>0.00</td>\n",
       "      <td>0</td>\n",
       "      <td>0</td>\n",
       "      <td>0</td>\n",
       "      <td>0</td>\n",
       "      <td>0</td>\n",
       "      <td>0</td>\n",
       "      <td>...</td>\n",
       "      <td>0</td>\n",
       "      <td>0</td>\n",
       "      <td>0</td>\n",
       "      <td>0</td>\n",
       "      <td>0</td>\n",
       "      <td>0</td>\n",
       "      <td>0</td>\n",
       "      <td>0</td>\n",
       "      <td>0</td>\n",
       "      <td>1</td>\n",
       "    </tr>\n",
       "  </tbody>\n",
       "</table>\n",
       "<p>435 rows × 74 columns</p>\n",
       "</div>"
      ],
      "text/plain": [
       "     Month_num  load_factor  avg_ac_capacity  daily_ac_trips  \\\n",
       "0            1         68.4             57.0           10.42   \n",
       "1            2         64.1             53.0           15.83   \n",
       "2            3         52.6             53.0           14.03   \n",
       "3            4         16.2             47.0            1.37   \n",
       "4            5         23.7             53.0            1.06   \n",
       "..         ...          ...              ...             ...   \n",
       "430          4         11.8             48.0            1.60   \n",
       "431          5         27.8             53.0            1.19   \n",
       "432          6          0.0              0.0            0.00   \n",
       "433          7          0.0              0.0            0.00   \n",
       "434          8          0.0              0.0            0.00   \n",
       "\n",
       "     city_pair_ADELAIDEALICE SPRINGS  city_pair_ADELAIDEBRISBANE  \\\n",
       "0                                  0                           0   \n",
       "1                                  0                           0   \n",
       "2                                  0                           0   \n",
       "3                                  0                           0   \n",
       "4                                  0                           0   \n",
       "..                               ...                         ...   \n",
       "430                                0                           0   \n",
       "431                                0                           0   \n",
       "432                                0                           0   \n",
       "433                                0                           0   \n",
       "434                                0                           0   \n",
       "\n",
       "     city_pair_ADELAIDECANBERRA  city_pair_ADELAIDEGOLD COAST  \\\n",
       "0                             0                             0   \n",
       "1                             0                             0   \n",
       "2                             0                             0   \n",
       "3                             0                             0   \n",
       "4                             0                             0   \n",
       "..                          ...                           ...   \n",
       "430                           0                             0   \n",
       "431                           0                             0   \n",
       "432                           0                             0   \n",
       "433                           0                             0   \n",
       "434                           0                             0   \n",
       "\n",
       "     city_pair_ADELAIDEMELBOURNE  city_pair_ADELAIDEPERTH  ...  \\\n",
       "0                              0                        0  ...   \n",
       "1                              0                        0  ...   \n",
       "2                              0                        0  ...   \n",
       "3                              0                        0  ...   \n",
       "4                              0                        0  ...   \n",
       "..                           ...                      ...  ...   \n",
       "430                            0                        0  ...   \n",
       "431                            0                        0  ...   \n",
       "432                            0                        0  ...   \n",
       "433                            0                        0  ...   \n",
       "434                            0                        0  ...   \n",
       "\n",
       "     city_pair_PERTHNEWMAN  city_pair_PERTHPORT HEDLAND  \\\n",
       "0                        0                            0   \n",
       "1                        0                            0   \n",
       "2                        0                            0   \n",
       "3                        0                            0   \n",
       "4                        0                            0   \n",
       "..                     ...                          ...   \n",
       "430                      0                            0   \n",
       "431                      0                            0   \n",
       "432                      0                            0   \n",
       "433                      0                            0   \n",
       "434                      0                            0   \n",
       "\n",
       "     city_pair_PERTHSYDNEY  city_pair_PORT MACQUARIESYDNEY  \\\n",
       "0                        0                               0   \n",
       "1                        0                               0   \n",
       "2                        0                               0   \n",
       "3                        0                               0   \n",
       "4                        0                               0   \n",
       "..                     ...                             ...   \n",
       "430                      0                               0   \n",
       "431                      0                               0   \n",
       "432                      0                               0   \n",
       "433                      0                               0   \n",
       "434                      0                               0   \n",
       "\n",
       "     city_pair_PROSERPINESYDNEY  city_pair_SUNSHINE COASTMELBOURNE  \\\n",
       "0                             0                                  0   \n",
       "1                             0                                  0   \n",
       "2                             0                                  0   \n",
       "3                             0                                  0   \n",
       "4                             0                                  0   \n",
       "..                          ...                                ...   \n",
       "430                           0                                  0   \n",
       "431                           0                                  0   \n",
       "432                           0                                  0   \n",
       "433                           0                                  0   \n",
       "434                           0                                  0   \n",
       "\n",
       "     city_pair_SUNSHINE COASTSYDNEY  city_pair_SYDNEYTAMWORTH  \\\n",
       "0                                 0                         0   \n",
       "1                                 0                         0   \n",
       "2                                 0                         0   \n",
       "3                                 0                         0   \n",
       "4                                 0                         0   \n",
       "..                              ...                       ...   \n",
       "430                               0                         0   \n",
       "431                               0                         0   \n",
       "432                               0                         0   \n",
       "433                               0                         0   \n",
       "434                               0                         0   \n",
       "\n",
       "     city_pair_SYDNEYTOWNSVILLE  city_pair_SYDNEYWAGGA WAGGA  \n",
       "0                             0                            0  \n",
       "1                             0                            0  \n",
       "2                             0                            0  \n",
       "3                             0                            0  \n",
       "4                             0                            0  \n",
       "..                          ...                          ...  \n",
       "430                           0                            1  \n",
       "431                           0                            1  \n",
       "432                           0                            1  \n",
       "433                           0                            1  \n",
       "434                           0                            1  \n",
       "\n",
       "[435 rows x 74 columns]"
      ]
     },
     "execution_count": 9,
     "metadata": {},
     "output_type": "execute_result"
    }
   ],
   "source": [
    "df_20_new"
   ]
  },
  {
   "cell_type": "markdown",
   "metadata": {
    "id": "ZXNomcl7TDrg"
   },
   "source": [
    "# Machine Learning "
   ]
  },
  {
   "cell_type": "markdown",
   "metadata": {
    "id": "Zniq0vqdTFZU"
   },
   "source": [
    "## Linear Regreesion"
   ]
  },
  {
   "cell_type": "code",
   "execution_count": 10,
   "metadata": {
    "id": "0jGGzPP9TDVt"
   },
   "outputs": [],
   "source": [
    "from sklearn.model_selection import train_test_split"
   ]
  },
  {
   "cell_type": "code",
   "execution_count": 11,
   "metadata": {
    "id": "EdT4SwbjTHEJ"
   },
   "outputs": [],
   "source": [
    "from sklearn.metrics import mean_absolute_error, mean_squared_error, r2_score"
   ]
  },
  {
   "cell_type": "code",
   "execution_count": 12,
   "metadata": {
    "id": "dDq4SoybTH6A"
   },
   "outputs": [],
   "source": [
    "X = df_20_new.drop(columns='daily_ac_trips')\n",
    "y = df_20_new['daily_ac_trips']"
   ]
  },
  {
   "cell_type": "code",
   "execution_count": 13,
   "metadata": {
    "colab": {
     "base_uri": "https://localhost:8080/",
     "height": 443
    },
    "executionInfo": {
     "elapsed": 1153,
     "status": "ok",
     "timestamp": 1605960806983,
     "user": {
      "displayName": "Denny Setia Dwiputra",
      "photoUrl": "https://lh3.googleusercontent.com/a-/AOh14GheQSIjmpXmrulrtnhemFKjsaAPE4APTVVVqNuX0w=s64",
      "userId": "16685659883209092994"
     },
     "user_tz": -420
    },
    "id": "hoWIslqNTIua",
    "outputId": "51bc736a-5bf8-43fb-b404-e962a1787f95"
   },
   "outputs": [
    {
     "data": {
      "text/html": [
       "<div>\n",
       "<style scoped>\n",
       "    .dataframe tbody tr th:only-of-type {\n",
       "        vertical-align: middle;\n",
       "    }\n",
       "\n",
       "    .dataframe tbody tr th {\n",
       "        vertical-align: top;\n",
       "    }\n",
       "\n",
       "    .dataframe thead th {\n",
       "        text-align: right;\n",
       "    }\n",
       "</style>\n",
       "<table border=\"1\" class=\"dataframe\">\n",
       "  <thead>\n",
       "    <tr style=\"text-align: right;\">\n",
       "      <th></th>\n",
       "      <th>Month_num</th>\n",
       "      <th>load_factor</th>\n",
       "      <th>avg_ac_capacity</th>\n",
       "      <th>city_pair_ADELAIDEALICE SPRINGS</th>\n",
       "      <th>city_pair_ADELAIDEBRISBANE</th>\n",
       "      <th>city_pair_ADELAIDECANBERRA</th>\n",
       "      <th>city_pair_ADELAIDEGOLD COAST</th>\n",
       "      <th>city_pair_ADELAIDEMELBOURNE</th>\n",
       "      <th>city_pair_ADELAIDEPERTH</th>\n",
       "      <th>city_pair_ADELAIDEPORT LINCOLN</th>\n",
       "      <th>...</th>\n",
       "      <th>city_pair_PERTHNEWMAN</th>\n",
       "      <th>city_pair_PERTHPORT HEDLAND</th>\n",
       "      <th>city_pair_PERTHSYDNEY</th>\n",
       "      <th>city_pair_PORT MACQUARIESYDNEY</th>\n",
       "      <th>city_pair_PROSERPINESYDNEY</th>\n",
       "      <th>city_pair_SUNSHINE COASTMELBOURNE</th>\n",
       "      <th>city_pair_SUNSHINE COASTSYDNEY</th>\n",
       "      <th>city_pair_SYDNEYTAMWORTH</th>\n",
       "      <th>city_pair_SYDNEYTOWNSVILLE</th>\n",
       "      <th>city_pair_SYDNEYWAGGA WAGGA</th>\n",
       "    </tr>\n",
       "  </thead>\n",
       "  <tbody>\n",
       "    <tr>\n",
       "      <th>0</th>\n",
       "      <td>1</td>\n",
       "      <td>68.4</td>\n",
       "      <td>57.0</td>\n",
       "      <td>0</td>\n",
       "      <td>0</td>\n",
       "      <td>0</td>\n",
       "      <td>0</td>\n",
       "      <td>0</td>\n",
       "      <td>0</td>\n",
       "      <td>0</td>\n",
       "      <td>...</td>\n",
       "      <td>0</td>\n",
       "      <td>0</td>\n",
       "      <td>0</td>\n",
       "      <td>0</td>\n",
       "      <td>0</td>\n",
       "      <td>0</td>\n",
       "      <td>0</td>\n",
       "      <td>0</td>\n",
       "      <td>0</td>\n",
       "      <td>0</td>\n",
       "    </tr>\n",
       "    <tr>\n",
       "      <th>1</th>\n",
       "      <td>2</td>\n",
       "      <td>64.1</td>\n",
       "      <td>53.0</td>\n",
       "      <td>0</td>\n",
       "      <td>0</td>\n",
       "      <td>0</td>\n",
       "      <td>0</td>\n",
       "      <td>0</td>\n",
       "      <td>0</td>\n",
       "      <td>0</td>\n",
       "      <td>...</td>\n",
       "      <td>0</td>\n",
       "      <td>0</td>\n",
       "      <td>0</td>\n",
       "      <td>0</td>\n",
       "      <td>0</td>\n",
       "      <td>0</td>\n",
       "      <td>0</td>\n",
       "      <td>0</td>\n",
       "      <td>0</td>\n",
       "      <td>0</td>\n",
       "    </tr>\n",
       "    <tr>\n",
       "      <th>2</th>\n",
       "      <td>3</td>\n",
       "      <td>52.6</td>\n",
       "      <td>53.0</td>\n",
       "      <td>0</td>\n",
       "      <td>0</td>\n",
       "      <td>0</td>\n",
       "      <td>0</td>\n",
       "      <td>0</td>\n",
       "      <td>0</td>\n",
       "      <td>0</td>\n",
       "      <td>...</td>\n",
       "      <td>0</td>\n",
       "      <td>0</td>\n",
       "      <td>0</td>\n",
       "      <td>0</td>\n",
       "      <td>0</td>\n",
       "      <td>0</td>\n",
       "      <td>0</td>\n",
       "      <td>0</td>\n",
       "      <td>0</td>\n",
       "      <td>0</td>\n",
       "    </tr>\n",
       "    <tr>\n",
       "      <th>3</th>\n",
       "      <td>4</td>\n",
       "      <td>16.2</td>\n",
       "      <td>47.0</td>\n",
       "      <td>0</td>\n",
       "      <td>0</td>\n",
       "      <td>0</td>\n",
       "      <td>0</td>\n",
       "      <td>0</td>\n",
       "      <td>0</td>\n",
       "      <td>0</td>\n",
       "      <td>...</td>\n",
       "      <td>0</td>\n",
       "      <td>0</td>\n",
       "      <td>0</td>\n",
       "      <td>0</td>\n",
       "      <td>0</td>\n",
       "      <td>0</td>\n",
       "      <td>0</td>\n",
       "      <td>0</td>\n",
       "      <td>0</td>\n",
       "      <td>0</td>\n",
       "    </tr>\n",
       "    <tr>\n",
       "      <th>4</th>\n",
       "      <td>5</td>\n",
       "      <td>23.7</td>\n",
       "      <td>53.0</td>\n",
       "      <td>0</td>\n",
       "      <td>0</td>\n",
       "      <td>0</td>\n",
       "      <td>0</td>\n",
       "      <td>0</td>\n",
       "      <td>0</td>\n",
       "      <td>0</td>\n",
       "      <td>...</td>\n",
       "      <td>0</td>\n",
       "      <td>0</td>\n",
       "      <td>0</td>\n",
       "      <td>0</td>\n",
       "      <td>0</td>\n",
       "      <td>0</td>\n",
       "      <td>0</td>\n",
       "      <td>0</td>\n",
       "      <td>0</td>\n",
       "      <td>0</td>\n",
       "    </tr>\n",
       "    <tr>\n",
       "      <th>...</th>\n",
       "      <td>...</td>\n",
       "      <td>...</td>\n",
       "      <td>...</td>\n",
       "      <td>...</td>\n",
       "      <td>...</td>\n",
       "      <td>...</td>\n",
       "      <td>...</td>\n",
       "      <td>...</td>\n",
       "      <td>...</td>\n",
       "      <td>...</td>\n",
       "      <td>...</td>\n",
       "      <td>...</td>\n",
       "      <td>...</td>\n",
       "      <td>...</td>\n",
       "      <td>...</td>\n",
       "      <td>...</td>\n",
       "      <td>...</td>\n",
       "      <td>...</td>\n",
       "      <td>...</td>\n",
       "      <td>...</td>\n",
       "      <td>...</td>\n",
       "    </tr>\n",
       "    <tr>\n",
       "      <th>430</th>\n",
       "      <td>4</td>\n",
       "      <td>11.8</td>\n",
       "      <td>48.0</td>\n",
       "      <td>0</td>\n",
       "      <td>0</td>\n",
       "      <td>0</td>\n",
       "      <td>0</td>\n",
       "      <td>0</td>\n",
       "      <td>0</td>\n",
       "      <td>0</td>\n",
       "      <td>...</td>\n",
       "      <td>0</td>\n",
       "      <td>0</td>\n",
       "      <td>0</td>\n",
       "      <td>0</td>\n",
       "      <td>0</td>\n",
       "      <td>0</td>\n",
       "      <td>0</td>\n",
       "      <td>0</td>\n",
       "      <td>0</td>\n",
       "      <td>1</td>\n",
       "    </tr>\n",
       "    <tr>\n",
       "      <th>431</th>\n",
       "      <td>5</td>\n",
       "      <td>27.8</td>\n",
       "      <td>53.0</td>\n",
       "      <td>0</td>\n",
       "      <td>0</td>\n",
       "      <td>0</td>\n",
       "      <td>0</td>\n",
       "      <td>0</td>\n",
       "      <td>0</td>\n",
       "      <td>0</td>\n",
       "      <td>...</td>\n",
       "      <td>0</td>\n",
       "      <td>0</td>\n",
       "      <td>0</td>\n",
       "      <td>0</td>\n",
       "      <td>0</td>\n",
       "      <td>0</td>\n",
       "      <td>0</td>\n",
       "      <td>0</td>\n",
       "      <td>0</td>\n",
       "      <td>1</td>\n",
       "    </tr>\n",
       "    <tr>\n",
       "      <th>432</th>\n",
       "      <td>6</td>\n",
       "      <td>0.0</td>\n",
       "      <td>0.0</td>\n",
       "      <td>0</td>\n",
       "      <td>0</td>\n",
       "      <td>0</td>\n",
       "      <td>0</td>\n",
       "      <td>0</td>\n",
       "      <td>0</td>\n",
       "      <td>0</td>\n",
       "      <td>...</td>\n",
       "      <td>0</td>\n",
       "      <td>0</td>\n",
       "      <td>0</td>\n",
       "      <td>0</td>\n",
       "      <td>0</td>\n",
       "      <td>0</td>\n",
       "      <td>0</td>\n",
       "      <td>0</td>\n",
       "      <td>0</td>\n",
       "      <td>1</td>\n",
       "    </tr>\n",
       "    <tr>\n",
       "      <th>433</th>\n",
       "      <td>7</td>\n",
       "      <td>0.0</td>\n",
       "      <td>0.0</td>\n",
       "      <td>0</td>\n",
       "      <td>0</td>\n",
       "      <td>0</td>\n",
       "      <td>0</td>\n",
       "      <td>0</td>\n",
       "      <td>0</td>\n",
       "      <td>0</td>\n",
       "      <td>...</td>\n",
       "      <td>0</td>\n",
       "      <td>0</td>\n",
       "      <td>0</td>\n",
       "      <td>0</td>\n",
       "      <td>0</td>\n",
       "      <td>0</td>\n",
       "      <td>0</td>\n",
       "      <td>0</td>\n",
       "      <td>0</td>\n",
       "      <td>1</td>\n",
       "    </tr>\n",
       "    <tr>\n",
       "      <th>434</th>\n",
       "      <td>8</td>\n",
       "      <td>0.0</td>\n",
       "      <td>0.0</td>\n",
       "      <td>0</td>\n",
       "      <td>0</td>\n",
       "      <td>0</td>\n",
       "      <td>0</td>\n",
       "      <td>0</td>\n",
       "      <td>0</td>\n",
       "      <td>0</td>\n",
       "      <td>...</td>\n",
       "      <td>0</td>\n",
       "      <td>0</td>\n",
       "      <td>0</td>\n",
       "      <td>0</td>\n",
       "      <td>0</td>\n",
       "      <td>0</td>\n",
       "      <td>0</td>\n",
       "      <td>0</td>\n",
       "      <td>0</td>\n",
       "      <td>1</td>\n",
       "    </tr>\n",
       "  </tbody>\n",
       "</table>\n",
       "<p>435 rows × 73 columns</p>\n",
       "</div>"
      ],
      "text/plain": [
       "     Month_num  load_factor  avg_ac_capacity  city_pair_ADELAIDEALICE SPRINGS  \\\n",
       "0            1         68.4             57.0                                0   \n",
       "1            2         64.1             53.0                                0   \n",
       "2            3         52.6             53.0                                0   \n",
       "3            4         16.2             47.0                                0   \n",
       "4            5         23.7             53.0                                0   \n",
       "..         ...          ...              ...                              ...   \n",
       "430          4         11.8             48.0                                0   \n",
       "431          5         27.8             53.0                                0   \n",
       "432          6          0.0              0.0                                0   \n",
       "433          7          0.0              0.0                                0   \n",
       "434          8          0.0              0.0                                0   \n",
       "\n",
       "     city_pair_ADELAIDEBRISBANE  city_pair_ADELAIDECANBERRA  \\\n",
       "0                             0                           0   \n",
       "1                             0                           0   \n",
       "2                             0                           0   \n",
       "3                             0                           0   \n",
       "4                             0                           0   \n",
       "..                          ...                         ...   \n",
       "430                           0                           0   \n",
       "431                           0                           0   \n",
       "432                           0                           0   \n",
       "433                           0                           0   \n",
       "434                           0                           0   \n",
       "\n",
       "     city_pair_ADELAIDEGOLD COAST  city_pair_ADELAIDEMELBOURNE  \\\n",
       "0                               0                            0   \n",
       "1                               0                            0   \n",
       "2                               0                            0   \n",
       "3                               0                            0   \n",
       "4                               0                            0   \n",
       "..                            ...                          ...   \n",
       "430                             0                            0   \n",
       "431                             0                            0   \n",
       "432                             0                            0   \n",
       "433                             0                            0   \n",
       "434                             0                            0   \n",
       "\n",
       "     city_pair_ADELAIDEPERTH  city_pair_ADELAIDEPORT LINCOLN  ...  \\\n",
       "0                          0                               0  ...   \n",
       "1                          0                               0  ...   \n",
       "2                          0                               0  ...   \n",
       "3                          0                               0  ...   \n",
       "4                          0                               0  ...   \n",
       "..                       ...                             ...  ...   \n",
       "430                        0                               0  ...   \n",
       "431                        0                               0  ...   \n",
       "432                        0                               0  ...   \n",
       "433                        0                               0  ...   \n",
       "434                        0                               0  ...   \n",
       "\n",
       "     city_pair_PERTHNEWMAN  city_pair_PERTHPORT HEDLAND  \\\n",
       "0                        0                            0   \n",
       "1                        0                            0   \n",
       "2                        0                            0   \n",
       "3                        0                            0   \n",
       "4                        0                            0   \n",
       "..                     ...                          ...   \n",
       "430                      0                            0   \n",
       "431                      0                            0   \n",
       "432                      0                            0   \n",
       "433                      0                            0   \n",
       "434                      0                            0   \n",
       "\n",
       "     city_pair_PERTHSYDNEY  city_pair_PORT MACQUARIESYDNEY  \\\n",
       "0                        0                               0   \n",
       "1                        0                               0   \n",
       "2                        0                               0   \n",
       "3                        0                               0   \n",
       "4                        0                               0   \n",
       "..                     ...                             ...   \n",
       "430                      0                               0   \n",
       "431                      0                               0   \n",
       "432                      0                               0   \n",
       "433                      0                               0   \n",
       "434                      0                               0   \n",
       "\n",
       "     city_pair_PROSERPINESYDNEY  city_pair_SUNSHINE COASTMELBOURNE  \\\n",
       "0                             0                                  0   \n",
       "1                             0                                  0   \n",
       "2                             0                                  0   \n",
       "3                             0                                  0   \n",
       "4                             0                                  0   \n",
       "..                          ...                                ...   \n",
       "430                           0                                  0   \n",
       "431                           0                                  0   \n",
       "432                           0                                  0   \n",
       "433                           0                                  0   \n",
       "434                           0                                  0   \n",
       "\n",
       "     city_pair_SUNSHINE COASTSYDNEY  city_pair_SYDNEYTAMWORTH  \\\n",
       "0                                 0                         0   \n",
       "1                                 0                         0   \n",
       "2                                 0                         0   \n",
       "3                                 0                         0   \n",
       "4                                 0                         0   \n",
       "..                              ...                       ...   \n",
       "430                               0                         0   \n",
       "431                               0                         0   \n",
       "432                               0                         0   \n",
       "433                               0                         0   \n",
       "434                               0                         0   \n",
       "\n",
       "     city_pair_SYDNEYTOWNSVILLE  city_pair_SYDNEYWAGGA WAGGA  \n",
       "0                             0                            0  \n",
       "1                             0                            0  \n",
       "2                             0                            0  \n",
       "3                             0                            0  \n",
       "4                             0                            0  \n",
       "..                          ...                          ...  \n",
       "430                           0                            1  \n",
       "431                           0                            1  \n",
       "432                           0                            1  \n",
       "433                           0                            1  \n",
       "434                           0                            1  \n",
       "\n",
       "[435 rows x 73 columns]"
      ]
     },
     "execution_count": 13,
     "metadata": {},
     "output_type": "execute_result"
    }
   ],
   "source": [
    "X"
   ]
  },
  {
   "cell_type": "code",
   "execution_count": 14,
   "metadata": {
    "colab": {
     "base_uri": "https://localhost:8080/"
    },
    "executionInfo": {
     "elapsed": 1087,
     "status": "ok",
     "timestamp": 1605960815216,
     "user": {
      "displayName": "Denny Setia Dwiputra",
      "photoUrl": "https://lh3.googleusercontent.com/a-/AOh14GheQSIjmpXmrulrtnhemFKjsaAPE4APTVVVqNuX0w=s64",
      "userId": "16685659883209092994"
     },
     "user_tz": -420
    },
    "id": "jD9HCU6RTJlf",
    "outputId": "e52cc24b-73f3-4aa8-df8d-79953ac1cfab"
   },
   "outputs": [
    {
     "data": {
      "text/plain": [
       "0      10.42\n",
       "1      15.83\n",
       "2      14.03\n",
       "3       1.37\n",
       "4       1.06\n",
       "       ...  \n",
       "430     1.60\n",
       "431     1.19\n",
       "432     0.00\n",
       "433     0.00\n",
       "434     0.00\n",
       "Name: daily_ac_trips, Length: 435, dtype: float64"
      ]
     },
     "execution_count": 14,
     "metadata": {},
     "output_type": "execute_result"
    }
   ],
   "source": [
    "y"
   ]
  },
  {
   "cell_type": "code",
   "execution_count": 15,
   "metadata": {
    "id": "0Ko_zqSPTRE6"
   },
   "outputs": [],
   "source": [
    "X_train, X_test, y_train, y_test = train_test_split(X, y, train_size = .7, random_state = 123)"
   ]
  },
  {
   "cell_type": "code",
   "execution_count": null,
   "metadata": {
    "id": "4sFYeZidTRrv"
   },
   "outputs": [],
   "source": [
    "from sklearn.linear_model import LinearRegression,Ridge,Lasso,ElasticNet"
   ]
  },
  {
   "cell_type": "code",
   "execution_count": null,
   "metadata": {
    "id": "Imm_Oom8TS5Y"
   },
   "outputs": [],
   "source": [
    "Linmodel = LinearRegression()"
   ]
  },
  {
   "cell_type": "code",
   "execution_count": null,
   "metadata": {
    "colab": {
     "base_uri": "https://localhost:8080/"
    },
    "executionInfo": {
     "elapsed": 862,
     "status": "ok",
     "timestamp": 1605960831778,
     "user": {
      "displayName": "Denny Setia Dwiputra",
      "photoUrl": "https://lh3.googleusercontent.com/a-/AOh14GheQSIjmpXmrulrtnhemFKjsaAPE4APTVVVqNuX0w=s64",
      "userId": "16685659883209092994"
     },
     "user_tz": -420
    },
    "id": "N_pO7Z87TTuM",
    "outputId": "be6482b1-b68a-457c-ec21-ab3e0ad3eae7"
   },
   "outputs": [
    {
     "data": {
      "text/plain": [
       "LinearRegression(copy_X=True, fit_intercept=True, n_jobs=None, normalize=False)"
      ]
     },
     "execution_count": 23,
     "metadata": {
      "tags": []
     },
     "output_type": "execute_result"
    }
   ],
   "source": [
    "Linmodel.fit(X_train, y_train)"
   ]
  },
  {
   "cell_type": "code",
   "execution_count": null,
   "metadata": {
    "id": "Iwwcm_eSTUyw"
   },
   "outputs": [],
   "source": [
    "Linpred = Linmodel.predict(X_test)"
   ]
  },
  {
   "cell_type": "code",
   "execution_count": null,
   "metadata": {
    "colab": {
     "base_uri": "https://localhost:8080/"
    },
    "executionInfo": {
     "elapsed": 865,
     "status": "ok",
     "timestamp": 1605960832153,
     "user": {
      "displayName": "Denny Setia Dwiputra",
      "photoUrl": "https://lh3.googleusercontent.com/a-/AOh14GheQSIjmpXmrulrtnhemFKjsaAPE4APTVVVqNuX0w=s64",
      "userId": "16685659883209092994"
     },
     "user_tz": -420
    },
    "id": "xwz2a5kKTWEr",
    "outputId": "516f94ec-7bc9-4115-e94a-fb5a4128a62d"
   },
   "outputs": [
    {
     "name": "stdout",
     "output_type": "stream",
     "text": [
      "Train Accuracy: 0.8\n",
      "Test Accuracy: 0.56\n"
     ]
    }
   ],
   "source": [
    "print(\"Train Accuracy:\",Linmodel.score(X_train, y_train).round(2))\n",
    "print(\"Test Accuracy:\",Linmodel.score(X_test, y_test).round(2))"
   ]
  },
  {
   "cell_type": "markdown",
   "metadata": {
    "id": "vuf3U_F9TfCb"
   },
   "source": [
    "## Random Forest"
   ]
  },
  {
   "cell_type": "code",
   "execution_count": 25,
   "metadata": {
    "id": "sxIRddGkTXFH"
   },
   "outputs": [],
   "source": [
    "from sklearn.ensemble import RandomForestRegressor"
   ]
  },
  {
   "cell_type": "code",
   "execution_count": 26,
   "metadata": {
    "colab": {
     "base_uri": "https://localhost:8080/"
    },
    "executionInfo": {
     "elapsed": 933,
     "status": "ok",
     "timestamp": 1605960902019,
     "user": {
      "displayName": "Denny Setia Dwiputra",
      "photoUrl": "https://lh3.googleusercontent.com/a-/AOh14GheQSIjmpXmrulrtnhemFKjsaAPE4APTVVVqNuX0w=s64",
      "userId": "16685659883209092994"
     },
     "user_tz": -420
    },
    "id": "Ddo73JJOTgx3",
    "outputId": "535f4590-e22b-49b9-ad75-fafe41b6c46d"
   },
   "outputs": [
    {
     "data": {
      "text/plain": [
       "RandomForestRegressor(max_depth=2)"
      ]
     },
     "execution_count": 26,
     "metadata": {},
     "output_type": "execute_result"
    }
   ],
   "source": [
    "X_train, X_test, y_train, y_test = train_test_split(X, y, test_size = .7, random_state = 42) # Robust\n",
    "rf = RandomForestRegressor(max_depth=2) #max iter --> makin besar nilainya makin lama\n",
    "rf.fit(X_train,y_train)"
   ]
  },
  {
   "cell_type": "code",
   "execution_count": null,
   "metadata": {
    "id": "3_yGCd39TiSx"
   },
   "outputs": [],
   "source": [
    "y_rf = rf.predict(X_test) #0.05 "
   ]
  },
  {
   "cell_type": "code",
   "execution_count": null,
   "metadata": {
    "colab": {
     "base_uri": "https://localhost:8080/"
    },
    "executionInfo": {
     "elapsed": 936,
     "status": "ok",
     "timestamp": 1605960902427,
     "user": {
      "displayName": "Denny Setia Dwiputra",
      "photoUrl": "https://lh3.googleusercontent.com/a-/AOh14GheQSIjmpXmrulrtnhemFKjsaAPE4APTVVVqNuX0w=s64",
      "userId": "16685659883209092994"
     },
     "user_tz": -420
    },
    "id": "O8wcHROpTjrs",
    "outputId": "602adf9f-64f8-4f9d-d770-0eb9ecd8b3fd"
   },
   "outputs": [
    {
     "name": "stdout",
     "output_type": "stream",
     "text": [
      "Train Accuracy: 0.79\n",
      "Test Accuracy: 0.75\n"
     ]
    }
   ],
   "source": [
    "print(\"Train Accuracy:\",rf.score(X_train, y_train).round(2))\n",
    "print(\"Test Accuracy:\",rf.score(X_test, y_test).round(2))"
   ]
  },
  {
   "cell_type": "code",
   "execution_count": null,
   "metadata": {
    "id": "Xbbz4DQITr2E"
   },
   "outputs": [],
   "source": [
    "MAE_rf = mean_absolute_error(y_test,y_rf )\n",
    "\n",
    "MSE_rf = mean_squared_error(y_test, y_rf)\n",
    "\n",
    "RMSE_rf = np.sqrt(MSE_rf)\n",
    "\n",
    "R2_rf = r2_score(y_test, y_rf)\n",
    "\n",
    "avg_target = (df_20_new['load_factor']).mean()\n",
    "\n",
    "MAPE = ((MAE_rf/avg_target)*100).round(2)"
   ]
  },
  {
   "cell_type": "code",
   "execution_count": null,
   "metadata": {
    "colab": {
     "base_uri": "https://localhost:8080/"
    },
    "executionInfo": {
     "elapsed": 824,
     "status": "ok",
     "timestamp": 1605960903227,
     "user": {
      "displayName": "Denny Setia Dwiputra",
      "photoUrl": "https://lh3.googleusercontent.com/a-/AOh14GheQSIjmpXmrulrtnhemFKjsaAPE4APTVVVqNuX0w=s64",
      "userId": "16685659883209092994"
     },
     "user_tz": -420
    },
    "id": "AawB8Z9jTkkM",
    "outputId": "61ba4d9b-59b3-48a0-ac25-270b3ee550f0"
   },
   "outputs": [
    {
     "name": "stdout",
     "output_type": "stream",
     "text": [
      "Hasil Evaluation Matrix : \n",
      "MAE :  0.9429847423538166\n",
      "MSE :  3.291084316397797\n",
      "RMSE :  1.8141345915884513\n",
      "R2 :  0.7508016276449655\n",
      "MAPE : 4.02 %\n"
     ]
    }
   ],
   "source": [
    "print(\"Hasil Evaluation Matrix : \")\n",
    "print(\"MAE : \", MAE_rf)\n",
    "print(\"MSE : \", MSE_rf)\n",
    "print(\"RMSE : \", RMSE_rf)\n",
    "print(\"R2 : \", R2_rf)\n",
    "print(f\"MAPE : {MAPE} %\")"
   ]
  },
  {
   "cell_type": "markdown",
   "metadata": {
    "id": "rNl_nH0HUOn7"
   },
   "source": [
    "## hyper parameter"
   ]
  },
  {
   "cell_type": "code",
   "execution_count": 27,
   "metadata": {
    "id": "F7zxQmqFUO_H"
   },
   "outputs": [],
   "source": [
    "from sklearn.model_selection import GridSearchCV"
   ]
  },
  {
   "cell_type": "code",
   "execution_count": 28,
   "metadata": {
    "id": "pmiiSHPWUQR7"
   },
   "outputs": [],
   "source": [
    "modelRF = RandomForestRegressor()\n",
    "param_RF = {\"n_estimators\" : [350,375,400],\n",
    "            \"max_depth\" : [2,3,4],\n",
    "            \"min_samples_split\" : [10,20,30],\n",
    "            \"min_samples_leaf\" :[10,20,30]}"
   ]
  },
  {
   "cell_type": "code",
   "execution_count": 29,
   "metadata": {
    "id": "pixu_URAURCg"
   },
   "outputs": [],
   "source": [
    "hyper_rf = GridSearchCV(estimator=modelRF, param_grid=param_RF, n_jobs = -1, cv = 5, verbose=1 )"
   ]
  },
  {
   "cell_type": "code",
   "execution_count": 30,
   "metadata": {
    "colab": {
     "base_uri": "https://localhost:8080/"
    },
    "executionInfo": {
     "elapsed": 92998,
     "status": "ok",
     "timestamp": 1605964074187,
     "user": {
      "displayName": "Denny Setia Dwiputra",
      "photoUrl": "https://lh3.googleusercontent.com/a-/AOh14GheQSIjmpXmrulrtnhemFKjsaAPE4APTVVVqNuX0w=s64",
      "userId": "16685659883209092994"
     },
     "user_tz": -420
    },
    "id": "IotuyPO1UR9x",
    "outputId": "80d6a151-b5f5-419a-c73f-c7430b403fce"
   },
   "outputs": [
    {
     "name": "stdout",
     "output_type": "stream",
     "text": [
      "Fitting 5 folds for each of 81 candidates, totalling 405 fits\n"
     ]
    },
    {
     "name": "stderr",
     "output_type": "stream",
     "text": [
      "[Parallel(n_jobs=-1)]: Using backend LokyBackend with 4 concurrent workers.\n",
      "[Parallel(n_jobs=-1)]: Done  42 tasks      | elapsed:   25.7s\n",
      "[Parallel(n_jobs=-1)]: Done 192 tasks      | elapsed:  1.5min\n",
      "[Parallel(n_jobs=-1)]: Done 405 out of 405 | elapsed:  3.1min finished\n"
     ]
    },
    {
     "data": {
      "text/plain": [
       "GridSearchCV(cv=5, estimator=RandomForestRegressor(), n_jobs=-1,\n",
       "             param_grid={'max_depth': [2, 3, 4],\n",
       "                         'min_samples_leaf': [10, 20, 30],\n",
       "                         'min_samples_split': [10, 20, 30],\n",
       "                         'n_estimators': [350, 375, 400]},\n",
       "             verbose=1)"
      ]
     },
     "execution_count": 30,
     "metadata": {},
     "output_type": "execute_result"
    }
   ],
   "source": [
    "hyper_rf.fit(X_train, y_train)"
   ]
  },
  {
   "cell_type": "code",
   "execution_count": 31,
   "metadata": {
    "colab": {
     "base_uri": "https://localhost:8080/"
    },
    "executionInfo": {
     "elapsed": 92403,
     "status": "ok",
     "timestamp": 1605964074189,
     "user": {
      "displayName": "Denny Setia Dwiputra",
      "photoUrl": "https://lh3.googleusercontent.com/a-/AOh14GheQSIjmpXmrulrtnhemFKjsaAPE4APTVVVqNuX0w=s64",
      "userId": "16685659883209092994"
     },
     "user_tz": -420
    },
    "id": "K7NPN-KjUS7n",
    "outputId": "1f491f54-f057-45f7-a28f-21da5d9112a0"
   },
   "outputs": [
    {
     "data": {
      "text/plain": [
       "{'max_depth': 2,\n",
       " 'min_samples_leaf': 10,\n",
       " 'min_samples_split': 20,\n",
       " 'n_estimators': 400}"
      ]
     },
     "execution_count": 31,
     "metadata": {},
     "output_type": "execute_result"
    }
   ],
   "source": [
    "hyper_rf.best_params_"
   ]
  },
  {
   "cell_type": "code",
   "execution_count": 32,
   "metadata": {
    "colab": {
     "base_uri": "https://localhost:8080/"
    },
    "executionInfo": {
     "elapsed": 92106,
     "status": "ok",
     "timestamp": 1605964074191,
     "user": {
      "displayName": "Denny Setia Dwiputra",
      "photoUrl": "https://lh3.googleusercontent.com/a-/AOh14GheQSIjmpXmrulrtnhemFKjsaAPE4APTVVVqNuX0w=s64",
      "userId": "16685659883209092994"
     },
     "user_tz": -420
    },
    "id": "dmYemtvwUa1a",
    "outputId": "70100825-6a7c-436d-8efd-3dd2330fd23d"
   },
   "outputs": [
    {
     "data": {
      "text/plain": [
       "0.6920522222924929"
      ]
     },
     "execution_count": 32,
     "metadata": {},
     "output_type": "execute_result"
    }
   ],
   "source": [
    "hyper_rf.best_score_"
   ]
  },
  {
   "cell_type": "code",
   "execution_count": 33,
   "metadata": {
    "colab": {
     "base_uri": "https://localhost:8080/"
    },
    "executionInfo": {
     "elapsed": 91907,
     "status": "ok",
     "timestamp": 1605964074193,
     "user": {
      "displayName": "Denny Setia Dwiputra",
      "photoUrl": "https://lh3.googleusercontent.com/a-/AOh14GheQSIjmpXmrulrtnhemFKjsaAPE4APTVVVqNuX0w=s64",
      "userId": "16685659883209092994"
     },
     "user_tz": -420
    },
    "id": "faY5otikUbwU",
    "outputId": "38db22e9-8452-4960-ba57-2f7fd4b48bbe"
   },
   "outputs": [
    {
     "data": {
      "text/plain": [
       "RandomForestRegressor(max_depth=2, min_samples_leaf=10, min_samples_split=20,\n",
       "                      n_estimators=400)"
      ]
     },
     "execution_count": 33,
     "metadata": {},
     "output_type": "execute_result"
    }
   ],
   "source": [
    "hyper_rf.best_estimator_"
   ]
  },
  {
   "cell_type": "code",
   "execution_count": 34,
   "metadata": {
    "id": "eNc74TZdUcqE"
   },
   "outputs": [],
   "source": [
    "RF_Tuned = hyper_rf.best_estimator_"
   ]
  },
  {
   "cell_type": "code",
   "execution_count": 35,
   "metadata": {
    "id": "vOevbKCKUdrq"
   },
   "outputs": [],
   "source": [
    "y_tunedRF = RF_Tuned.predict(X_test)"
   ]
  },
  {
   "cell_type": "code",
   "execution_count": 36,
   "metadata": {
    "colab": {
     "base_uri": "https://localhost:8080/"
    },
    "executionInfo": {
     "elapsed": 91352,
     "status": "ok",
     "timestamp": 1605964075140,
     "user": {
      "displayName": "Denny Setia Dwiputra",
      "photoUrl": "https://lh3.googleusercontent.com/a-/AOh14GheQSIjmpXmrulrtnhemFKjsaAPE4APTVVVqNuX0w=s64",
      "userId": "16685659883209092994"
     },
     "user_tz": -420
    },
    "id": "pFHXY5f_Ueoy",
    "outputId": "4e2f0097-2aaa-4bb1-8be5-0703bf5ccc36"
   },
   "outputs": [
    {
     "name": "stdout",
     "output_type": "stream",
     "text": [
      "Train Accuracy: 0.77\n",
      "Test Accuracy: 0.73\n"
     ]
    }
   ],
   "source": [
    "print(\"Train Accuracy:\",hyper_rf.score(X_train, y_train).round(2))\n",
    "print(\"Test Accuracy:\",hyper_rf.score(X_test, y_test).round(2))"
   ]
  },
  {
   "cell_type": "code",
   "execution_count": 37,
   "metadata": {
    "id": "LgxqOka2Ufe1"
   },
   "outputs": [],
   "source": [
    "MAE_tunedRF = mean_absolute_error(y_test,y_tunedRF )\n",
    "\n",
    "MSE_tunedRF = mean_squared_error(y_test, y_tunedRF)\n",
    "\n",
    "RMSE_tunedRF = np.sqrt(MSE_tunedRF)\n",
    "\n",
    "R2_tunedRF = r2_score(y_test, y_tunedRF)\n",
    "\n",
    "avg_target = (df_20_new['load_factor']).mean()\n",
    "\n",
    "MAPE_tunedRF = ((MAE_tunedRF/avg_target)*100).round(2)"
   ]
  },
  {
   "cell_type": "code",
   "execution_count": 38,
   "metadata": {
    "colab": {
     "base_uri": "https://localhost:8080/"
    },
    "executionInfo": {
     "elapsed": 90029,
     "status": "ok",
     "timestamp": 1605964075143,
     "user": {
      "displayName": "Denny Setia Dwiputra",
      "photoUrl": "https://lh3.googleusercontent.com/a-/AOh14GheQSIjmpXmrulrtnhemFKjsaAPE4APTVVVqNuX0w=s64",
      "userId": "16685659883209092994"
     },
     "user_tz": -420
    },
    "id": "0p0WTxJ2Uhyn",
    "outputId": "9a533b67-993c-4005-9afb-8dd6e335b518"
   },
   "outputs": [
    {
     "name": "stdout",
     "output_type": "stream",
     "text": [
      "Hasil Evaluation Matrix : \n",
      "MAE :  1.1003771897032013\n",
      "MSE :  3.622028377106061\n",
      "RMSE :  1.9031627300643685\n",
      "R2 :  0.7257427979886861\n",
      "MAPE : 4.69 %\n"
     ]
    }
   ],
   "source": [
    "print(\"Hasil Evaluation Matrix : \")\n",
    "print(\"MAE : \", MAE_tunedRF)\n",
    "print(\"MSE : \", MSE_tunedRF)\n",
    "print(\"RMSE : \", RMSE_tunedRF)\n",
    "print(\"R2 : \", R2_tunedRF)\n",
    "print(f\"MAPE : {MAPE_tunedRF} %\")"
   ]
  },
  {
   "cell_type": "markdown",
   "metadata": {
    "id": "jt_TU_g3VV3t"
   },
   "source": [
    "## SVR (BEST)"
   ]
  },
  {
   "cell_type": "code",
   "execution_count": 39,
   "metadata": {
    "id": "GbNy2a0JVWQP"
   },
   "outputs": [],
   "source": [
    "from sklearn.svm import SVR"
   ]
  },
  {
   "cell_type": "code",
   "execution_count": 55,
   "metadata": {
    "colab": {
     "base_uri": "https://localhost:8080/"
    },
    "executionInfo": {
     "elapsed": 931,
     "status": "ok",
     "timestamp": 1605964156569,
     "user": {
      "displayName": "Denny Setia Dwiputra",
      "photoUrl": "https://lh3.googleusercontent.com/a-/AOh14GheQSIjmpXmrulrtnhemFKjsaAPE4APTVVVqNuX0w=s64",
      "userId": "16685659883209092994"
     },
     "user_tz": -420
    },
    "id": "Oq9ZRiOZVXPU",
    "outputId": "d231ddc3-4ca8-4b3b-de76-7d3607d9cc33"
   },
   "outputs": [
    {
     "data": {
      "text/plain": [
       "SVR(C=4, gamma=0.0008, max_iter=7000)"
      ]
     },
     "execution_count": 55,
     "metadata": {},
     "output_type": "execute_result"
    }
   ],
   "source": [
    "X_train, X_test, y_train, y_test = train_test_split(X, y, test_size = .7, random_state = 42) # Robust\n",
    "regressor = SVR(kernel='rbf',C=4,gamma=0.0008,max_iter=7000) #max iter --> makin besar nilainya makin lama\n",
    "regressor.fit(X_train,y_train)"
   ]
  },
  {
   "cell_type": "code",
   "execution_count": 56,
   "metadata": {
    "id": "KnECVb_AVYA5"
   },
   "outputs": [],
   "source": [
    "y_svc = regressor.predict(X_test) #0.05 "
   ]
  },
  {
   "cell_type": "code",
   "execution_count": 57,
   "metadata": {
    "colab": {
     "base_uri": "https://localhost:8080/"
    },
    "executionInfo": {
     "elapsed": 921,
     "status": "ok",
     "timestamp": 1605964157002,
     "user": {
      "displayName": "Denny Setia Dwiputra",
      "photoUrl": "https://lh3.googleusercontent.com/a-/AOh14GheQSIjmpXmrulrtnhemFKjsaAPE4APTVVVqNuX0w=s64",
      "userId": "16685659883209092994"
     },
     "user_tz": -420
    },
    "id": "-GydNwGAVY2g",
    "outputId": "b79170c3-3c02-4d7c-9870-e5756d35c796"
   },
   "outputs": [
    {
     "name": "stdout",
     "output_type": "stream",
     "text": [
      "Train Accuracy: 0.74\n",
      "Test Accuracy: 0.76\n"
     ]
    }
   ],
   "source": [
    "print(\"Train Accuracy:\",regressor.score(X_train, y_train).round(2))\n",
    "print(\"Test Accuracy:\",regressor.score(X_test, y_test).round(2))"
   ]
  },
  {
   "cell_type": "code",
   "execution_count": 58,
   "metadata": {
    "id": "Vexil4-1VZ6P"
   },
   "outputs": [],
   "source": [
    "MAE_svc = mean_absolute_error(y_test,y_svc )\n",
    "\n",
    "MSE_svc = mean_squared_error(y_test, y_svc)\n",
    "\n",
    "RMSE_svc = np.sqrt(MSE_svc)\n",
    "\n",
    "R2_svc = r2_score(y_test, y_svc)\n",
    "\n",
    "avg_target = (df_20_new['load_factor']).mean()\n",
    "\n",
    "MAPE = ((MAE_svc/avg_target)*100).round(2)"
   ]
  },
  {
   "cell_type": "code",
   "execution_count": 59,
   "metadata": {
    "colab": {
     "base_uri": "https://localhost:8080/"
    },
    "executionInfo": {
     "elapsed": 851,
     "status": "ok",
     "timestamp": 1605964157338,
     "user": {
      "displayName": "Denny Setia Dwiputra",
      "photoUrl": "https://lh3.googleusercontent.com/a-/AOh14GheQSIjmpXmrulrtnhemFKjsaAPE4APTVVVqNuX0w=s64",
      "userId": "16685659883209092994"
     },
     "user_tz": -420
    },
    "id": "xX1ei6ycVbCA",
    "outputId": "3ff5eee4-8358-4c93-b10c-a36d58a5d17e"
   },
   "outputs": [
    {
     "name": "stdout",
     "output_type": "stream",
     "text": [
      "Hasil Evaluation Matrix : \n",
      "MAE :  0.8868418529511582\n",
      "MSE :  3.206579522789338\n",
      "RMSE :  1.7906924701883733\n",
      "R2 :  0.757200265601004\n",
      "MAPE : 3.78 %\n"
     ]
    }
   ],
   "source": [
    "print(\"Hasil Evaluation Matrix : \")\n",
    "print(\"MAE : \", MAE_svc)\n",
    "print(\"MSE : \", MSE_svc)\n",
    "print(\"RMSE : \", RMSE_svc)\n",
    "print(\"R2 : \", R2_svc)\n",
    "print(f\"MAPE : {MAPE} %\")"
   ]
  },
  {
   "cell_type": "markdown",
   "metadata": {
    "id": "1eNUh7lVlTcy"
   },
   "source": [
    "## XGBoost (Overfit)"
   ]
  },
  {
   "cell_type": "code",
   "execution_count": null,
   "metadata": {
    "id": "LzsIdn5thLFW"
   },
   "outputs": [],
   "source": [
    "from xgboost import XGBRegressor"
   ]
  },
  {
   "cell_type": "code",
   "execution_count": null,
   "metadata": {
    "id": "IYy_YatoiGf0"
   },
   "outputs": [],
   "source": [
    "X_train, X_test, y_train, y_test = train_test_split(X, y, test_size = .7, random_state = 42) # Robust"
   ]
  },
  {
   "cell_type": "code",
   "execution_count": null,
   "metadata": {
    "id": "iwUnTyPohVlT"
   },
   "outputs": [],
   "source": [
    "xg = XGBRegressor(max_depth=1, learning_rate=0.1, n_estimators=65, gamma=0, colsample_bytree=1, subsample=1, reg_alpha=0, reg_lambda=1)"
   ]
  },
  {
   "cell_type": "code",
   "execution_count": null,
   "metadata": {
    "colab": {
     "base_uri": "https://localhost:8080/"
    },
    "executionInfo": {
     "elapsed": 1243,
     "status": "ok",
     "timestamp": 1605961875716,
     "user": {
      "displayName": "Denny Setia Dwiputra",
      "photoUrl": "https://lh3.googleusercontent.com/a-/AOh14GheQSIjmpXmrulrtnhemFKjsaAPE4APTVVVqNuX0w=s64",
      "userId": "16685659883209092994"
     },
     "user_tz": -420
    },
    "id": "FgJzcdiohUnX",
    "outputId": "18dc0afc-06ab-4232-dd98-cbd7417aae04"
   },
   "outputs": [
    {
     "name": "stdout",
     "output_type": "stream",
     "text": [
      "[12:31:14] WARNING: /workspace/src/objective/regression_obj.cu:152: reg:linear is now deprecated in favor of reg:squarederror.\n"
     ]
    },
    {
     "data": {
      "text/plain": [
       "XGBRegressor(base_score=0.5, booster='gbtree', colsample_bylevel=1,\n",
       "             colsample_bynode=1, colsample_bytree=1, gamma=0,\n",
       "             importance_type='gain', learning_rate=0.1, max_delta_step=0,\n",
       "             max_depth=1, min_child_weight=1, missing=None, n_estimators=65,\n",
       "             n_jobs=1, nthread=None, objective='reg:linear', random_state=0,\n",
       "             reg_alpha=0, reg_lambda=1, scale_pos_weight=1, seed=None,\n",
       "             silent=None, subsample=1, verbosity=1)"
      ]
     },
     "execution_count": 453,
     "metadata": {
      "tags": []
     },
     "output_type": "execute_result"
    }
   ],
   "source": [
    "xg.fit(X_train,y_train)"
   ]
  },
  {
   "cell_type": "code",
   "execution_count": null,
   "metadata": {
    "id": "FJvAKUQ7hQzZ"
   },
   "outputs": [],
   "source": [
    "y_xg = xg.predict(X_test)"
   ]
  },
  {
   "cell_type": "code",
   "execution_count": null,
   "metadata": {
    "colab": {
     "base_uri": "https://localhost:8080/"
    },
    "executionInfo": {
     "elapsed": 1155,
     "status": "ok",
     "timestamp": 1605961876050,
     "user": {
      "displayName": "Denny Setia Dwiputra",
      "photoUrl": "https://lh3.googleusercontent.com/a-/AOh14GheQSIjmpXmrulrtnhemFKjsaAPE4APTVVVqNuX0w=s64",
      "userId": "16685659883209092994"
     },
     "user_tz": -420
    },
    "id": "RG2gQEsThqw_",
    "outputId": "52c9e124-4631-4275-ef98-a1d742e39882"
   },
   "outputs": [
    {
     "name": "stdout",
     "output_type": "stream",
     "text": [
      "Train Accuracy: 0.74\n",
      "Test Accuracy: 0.7\n"
     ]
    }
   ],
   "source": [
    "print(\"Train Accuracy:\",xg.score(X_train, y_train).round(2))\n",
    "print(\"Test Accuracy:\",xg.score(X_test, y_test).round(2))"
   ]
  },
  {
   "cell_type": "code",
   "execution_count": null,
   "metadata": {
    "colab": {
     "base_uri": "https://localhost:8080/"
    },
    "executionInfo": {
     "elapsed": 838,
     "status": "ok",
     "timestamp": 1605961876051,
     "user": {
      "displayName": "Denny Setia Dwiputra",
      "photoUrl": "https://lh3.googleusercontent.com/a-/AOh14GheQSIjmpXmrulrtnhemFKjsaAPE4APTVVVqNuX0w=s64",
      "userId": "16685659883209092994"
     },
     "user_tz": -420
    },
    "id": "6w44ufjNhgTH",
    "outputId": "870bf75d-935d-4fdd-e7de-6e95bf0af8bc"
   },
   "outputs": [
    {
     "name": "stdout",
     "output_type": "stream",
     "text": [
      "Hasil Evaluation Matrix : \n",
      "MAE :  1.2781689686892461\n",
      "MSE :  3.941900888674408\n",
      "RMSE :  1.9854220933278666\n",
      "R2 :  0.7015222975150925\n",
      "MAPE : 5.45 %\n"
     ]
    }
   ],
   "source": [
    "MAE_xg = mean_absolute_error(y_test,y_xg )\n",
    "\n",
    "MSE_xg = mean_squared_error(y_test, y_xg)\n",
    "\n",
    "RMSE_xg = np.sqrt(MSE_xg)\n",
    "\n",
    "R2_xg = r2_score(y_test, y_xg)\n",
    "\n",
    "avg_target = (df_20_new['load_factor']).mean()\n",
    "\n",
    "MAPE_xg = ((MAE_xg/avg_target)*100).round(2)\n",
    "\n",
    "#-------------------------------------------------------------------------------------------------\n",
    "\n",
    "print(\"Hasil Evaluation Matrix : \")\n",
    "print(\"MAE : \", MAE_xg)\n",
    "print(\"MSE : \", MSE_xg)\n",
    "print(\"RMSE : \", RMSE_xg)\n",
    "print(\"R2 : \", R2_xg)\n",
    "print(f\"MAPE : {MAPE_xg} %\")"
   ]
  },
  {
   "cell_type": "code",
   "execution_count": null,
   "metadata": {
    "colab": {
     "base_uri": "https://localhost:8080/"
    },
    "executionInfo": {
     "elapsed": 21687,
     "status": "ok",
     "timestamp": 1605965206063,
     "user": {
      "displayName": "Denny Setia Dwiputra",
      "photoUrl": "https://lh3.googleusercontent.com/a-/AOh14GheQSIjmpXmrulrtnhemFKjsaAPE4APTVVVqNuX0w=s64",
      "userId": "16685659883209092994"
     },
     "user_tz": -420
    },
    "id": "G2byMNTk8Dl8",
    "outputId": "edcc1da7-f72c-433a-86db-85a370b78d75"
   },
   "outputs": [
    {
     "name": "stdout",
     "output_type": "stream",
     "text": [
      "Select City From :albury\n",
      "Select City  To :sydney\n",
      "Input Month :9\n",
      "Input Load Factor :23\n",
      "Input Avalable Seat :47\n",
      "Estimate Daily Aircraft Trips : 1.69\n"
     ]
    }
   ],
   "source": [
    "city1 = input('Select City From :')\n",
    "city2 =input('Select City  To :')\n",
    "month = int(input('Input Month :'))\n",
    "load_factor = int(input('Input Load Factor :'))\n",
    "seat = int(input('Input Avalable Seat :'))\n",
    "citypair = city1+city2\n",
    "citypair = citypair.upper()\n",
    "encode = df_cat[df_cat['city_pair_copy']==citypair].head(1)\n",
    "encode = encode.values.tolist()\n",
    "encode = encode[0][1:]\n",
    "encode[0:0] = [month,load_factor,seat]\n",
    "loadfactor_pred = (regressor.predict([encode])[0]).round(2)\n",
    "print(f'Estimate Daily Aircraft Trips : {loadfactor_pred}')"
   ]
  },
  {
   "cell_type": "markdown",
   "metadata": {
    "id": "HyshUYGGeNCC"
   },
   "source": [
    "# Export Model --> Best SVR "
   ]
  },
  {
   "cell_type": "code",
   "execution_count": 60,
   "metadata": {
    "id": "wIlNMPRleQ0R"
   },
   "outputs": [],
   "source": [
    "# import joblib"
   ]
  },
  {
   "cell_type": "code",
   "execution_count": 61,
   "metadata": {
    "colab": {
     "base_uri": "https://localhost:8080/"
    },
    "executionInfo": {
     "elapsed": 932,
     "status": "ok",
     "timestamp": 1605973400704,
     "user": {
      "displayName": "Denny Setia Dwiputra",
      "photoUrl": "https://lh3.googleusercontent.com/a-/AOh14GheQSIjmpXmrulrtnhemFKjsaAPE4APTVVVqNuX0w=s64",
      "userId": "16685659883209092994"
     },
     "user_tz": -420
    },
    "id": "8QocuAhbeTZa",
    "outputId": "64247424-e8f9-4c60-9f04-baed7b38bf78"
   },
   "outputs": [
    {
     "data": {
      "text/plain": [
       "['ModelAusAirline']"
      ]
     },
     "execution_count": 61,
     "metadata": {},
     "output_type": "execute_result"
    }
   ],
   "source": [
    "# joblib.dump(regressor, 'ModelAusAirline')"
   ]
  }
 ],
 "metadata": {
  "accelerator": "GPU",
  "colab": {
   "collapsed_sections": [
    "vuf3U_F9TfCb",
    "rNl_nH0HUOn7"
   ],
   "machine_shape": "hm",
   "name": "australian_airline_machinelearningfinal.ipynb",
   "provenance": [
    {
     "file_id": "1GqZu6zmCy2vMNMZqO78DDuHvwv_9vJcp",
     "timestamp": 1605786664980
    },
    {
     "file_id": "1IzPbxNFQmmSYk9s14L4YjBfUgACn9mW2",
     "timestamp": 1593978024316
    },
    {
     "file_id": "1G7NKeneJNyRtcRxLVbbF9jYtRyuTOa-R",
     "timestamp": 1592749700622
    },
    {
     "file_id": "https://github.com/satyajitghana/TSAI-DeepVision-EVA4.0/blob/master/Utils/Colab_25GBRAM_GPU.ipynb",
     "timestamp": 1592043804148
    }
   ]
  },
  "kernelspec": {
   "display_name": "Python 3",
   "language": "python",
   "name": "python3"
  },
  "language_info": {
   "codemirror_mode": {
    "name": "ipython",
    "version": 3
   },
   "file_extension": ".py",
   "mimetype": "text/x-python",
   "name": "python",
   "nbconvert_exporter": "python",
   "pygments_lexer": "ipython3",
   "version": "3.7.6"
  }
 },
 "nbformat": 4,
 "nbformat_minor": 4
}
